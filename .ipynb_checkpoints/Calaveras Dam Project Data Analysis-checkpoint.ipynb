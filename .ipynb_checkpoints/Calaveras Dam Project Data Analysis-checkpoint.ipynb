{
 "cells": [
  {
   "cell_type": "markdown",
   "metadata": {},
   "source": [
    "# 0.1) Starting Code and Helper Functions"
   ]
  },
  {
   "cell_type": "code",
   "execution_count": null,
   "metadata": {},
   "outputs": [],
   "source": [
    "import numpy as np\n",
    "import pandas as pd\n",
    "import matplotlib.pyplot as plt\n",
    "from datetime import datetime as dt"
   ]
  },
  {
   "cell_type": "code",
   "execution_count": null,
   "metadata": {},
   "outputs": [],
   "source": [
    "#importing all the data, from the 'Calaveras Cataloguing' spreadsheet. Updated as of 3/16/20. \n",
    "\n",
    "inverts = pd.read_csv('Calaveras_Cataloguing_Invertebrates.csv')\n",
    "inv_0 = inverts.copy()\n",
    "\n",
    "verts = pd.read_csv('Calaveras_Cataloguing_Vertebrates.csv')\n",
    "vert_0 = verts.copy()"
   ]
  },
  {
   "cell_type": "code",
   "execution_count": null,
   "metadata": {},
   "outputs": [],
   "source": [
    "##null_list\n",
    "\n",
    "#takes in a list and reports if it is completely null values\n",
    "#useful for cleaning up data\n",
    "\n",
    "def null_list(array):\n",
    "    temp1 = []\n",
    "    for j in range(len(array)):\n",
    "        if pd.isnull(array[j]) == True:\n",
    "            temp1.append(array[j])\n",
    "    if len(temp1) == len(array):\n",
    "        return True\n",
    "    else:\n",
    "        return False"
   ]
  },
  {
   "cell_type": "markdown",
   "metadata": {},
   "source": [
    "# 0.2) Cleaning Up the Data"
   ]
  },
  {
   "cell_type": "markdown",
   "metadata": {},
   "source": [
    "Data entry for this project involved adding the field number (and the date that the fossil was found), the locality number, and the taxonomy (as specific as possible). A lot of the data is either left blank or is not uniform, so code needs to be written that parses through the data and cleans it up. "
   ]
  },
  {
   "cell_type": "code",
   "execution_count": null,
   "metadata": {
    "scrolled": false
   },
   "outputs": [],
   "source": [
    "##0.2.1) REMOVING ANY EMPTY ROWS\n",
    "\n",
    "#First, there are extra rows assigned with no values in them. We will get rid of them. \n",
    "\n",
    "inv_1 = pd.DataFrame(columns=inverts.columns)\n",
    "\n",
    "for i in range(len(inv_0)):\n",
    "    if null_list(inv_0.iloc[i][2:22]) == False:\n",
    "        inv_1 = inv_1.append(inv_0.iloc[i], ignore_index = False) #ignore_index is important, can keep track from OG data"
   ]
  },
  {
   "cell_type": "code",
   "execution_count": null,
   "metadata": {},
   "outputs": [],
   "source": [
    "##0.2.2) TAXONOMY DIVERSITY + IDENTIFYING MISTAKES\n",
    "\n",
    "#A lot of the data entries have the taxonomies listed at lower levels\n",
    "#Our first step will be to identify the diversity of the group at each taxonomic level (from genus to phylum)\n",
    "\n",
    "#checks the rows where the column condition is met\n",
    "#(inv_1.loc[inv_1['ordr'] == 'Pectinidae'])\n",
    "#inv_2['phylum']\n",
    "\n",
    "temp2 = []\n",
    "for col in inv_1:\n",
    "    temp2.append(inv_1[col].unique())\n",
    "\n",
    "print('The Diversity of the Calaveras Inverts Across Taxonomic Levels (v1)')   \n",
    "print()\n",
    "    \n",
    "for i in range(2,8):\n",
    "    print(inv_1.columns[i])\n",
    "    print(temp2[i])\n",
    "    print()"
   ]
  },
  {
   "cell_type": "markdown",
   "metadata": {},
   "source": [
    "This is where we are at. We have cleaned up the data and gotten rid of extra space, and are now left with just the data (logged over 2 years by different people). The next step will be to use the lower taxonomic level IDs to fill out the upper levels. This will flush out the data and make it more useful later. Unfortunately, we will have to hard code some of this to account for variations in taxonomic levels. It will be lengthy and arduous. \n",
    "\n",
    "Next, we isolated the unique groups in each column of our data (shown above), which provides us with very useful information. Now we know what we have to 'hard code'. Unfortunately, due to different people doing data entry, there are some overlapping errors. These (according to taxonomic level) are:\n",
    "\n",
    "-ERROR LIST-\n",
    "\n",
    "1. Phylum: \n",
    "    1. locality numbers in the phylum,\n",
    "    2. plantae is a kingdom, but we can ignore this\n",
    "    3. the 2 'ichnofossil', 'ichnotaxon', and 'teredolites' are all the same thing, \n",
    "    4. foraminifera is not a phylum, it is a ???? ASK ASHLEY, HOW DO WE CLASSIFY FORAMS??\n",
    "2. Class: \n",
    "    1. 3 bivalvia, \n",
    "    2. 3 gastropoda, \n",
    "    3. mollusca is a phylum, \n",
    "    4. pectinidae is a family, \n",
    "    5. 2 scaphopoda, \n",
    "    6. 2 cirripedia, \n",
    "    7. crustacea is a generic term (for phylum?), \n",
    "    8. echinodermata is a phylum, has multiple spellings\n",
    "3. Order:\n",
    "    1. pectinidae is a family,\n",
    "    2. lucinidae is a family,\n",
    "    3. cirripedia is a subclass, we are grouping it in 'class'    \n",
    "4. Family:\n",
    "    1. 4 pectinidae (one has a space after)\n",
    "    2. 2 arcidae\n",
    "    3. 2 lucinidae\n",
    "    4. 2 cardiidae    \n",
    "5. Genus:\n",
    "    1. 2 patinopecten\n",
    "    2. mytilidae is a family\n",
    "    3. 3 teredolites\n",
    "    4. diplodanta is spelled 'diplodonta'\n",
    "    5. 2 astrodapsis"
   ]
  },
  {
   "cell_type": "code",
   "execution_count": null,
   "metadata": {},
   "outputs": [],
   "source": [
    "##0.2.3) TAXONOMIC ERROR CORRECTIONS\n",
    "\n",
    "inv_2 = inv_1.copy()\n",
    "\n",
    "\n",
    "#We will do a row by row sweep, because that is easiest for me\n",
    "#According to the error list above\n",
    "\n",
    "##########################################################################################################################\n",
    "\n",
    "##1. phylum\n",
    "for i, row in inv_2.iterrows():\n",
    "    if  (inv_2.loc[i,'phylum'] == ' '):\n",
    "            inv_2.loc[i,'phylum'] = np.nan\n",
    "\n",
    "#1A\n",
    "for i, row in inv_2.iterrows():\n",
    "    if  (inv_2.loc[i,'phylum'] == 'V17011') or (inv_2.loc[i,'phylum'] == 'V17017'):\n",
    "        inv_2.loc[i,'phylum'] = np.nan\n",
    "\n",
    "#1C\n",
    "for i, row in inv_2.iterrows():\n",
    "    if  (inv_2.loc[i,'phylum'] == 'Ichnofossil') or (inv_2.loc[i,'phylum'] == 'ichnofossil') or (inv_2.loc[i,'phylum'] == 'Ichnotaxon') or (inv_2.loc[i,'phylum'] == 'Teredolites'):\n",
    "        inv_2.loc[i,'phylum'] = np.nan\n",
    "        inv_2.loc[i,'genus'] = 'Teredolites'\n",
    "        \n",
    "##########################################################################################################################\n",
    "        \n",
    "##2. class\n",
    "for i, row in inv_2.iterrows():\n",
    "    if  (inv_2.loc[i,'class'] == ' '):\n",
    "            inv_2.loc[i,'class'] = np.nan\n",
    "\n",
    "#2A\n",
    "for i, row in inv_2.iterrows():\n",
    "    if  (inv_2.loc[i,'class'] == 'Bivalvia ') or (inv_2.loc[i,'class'] == 'Bivalvia?'):\n",
    "        inv_2.loc[i,'class'] = 'Bivalvia'\n",
    "#2B\n",
    "for i, row in inv_2.iterrows():\n",
    "    if  (inv_2.loc[i,'class'] == 'Gastropoda ') or (inv_2.loc[i,'class'] == 'Gastropoda?'):\n",
    "        inv_2.loc[i,'class'] = 'Gastropoda'\n",
    "#2C\n",
    "for i, row in inv_2.iterrows():\n",
    "    if  (inv_2.loc[i,'class'] == 'Mollusca'):\n",
    "        inv_2.loc[i,'class'] = np.nan\n",
    "        inv_2.loc[i,'phylum'] = 'Mollusca'        \n",
    "#2D\n",
    "for i, row in inv_2.iterrows():\n",
    "    if  (inv_2.loc[i,'class'] == 'Pectinidae'):\n",
    "        inv_2.loc[i,'class'] = np.nan\n",
    "        inv_2.loc[i,'family'] = 'Pectinidae'\n",
    "#2E\n",
    "for i, row in inv_2.iterrows():\n",
    "    if  (inv_2.loc[i,'class'] == 'Scaphopoda (?)'):\n",
    "        inv_2.loc[i,'class'] = 'Scaphopoda'\n",
    "#2F\n",
    "for i, row in inv_2.iterrows():\n",
    "    if  (inv_2.loc[i,'class'] == 'Cirrepedia'):\n",
    "        inv_2.loc[i,'class'] = 'Cirripedia'\n",
    "#2G\n",
    "for i, row in inv_2.iterrows():\n",
    "    if  (inv_2.loc[i,'class'] == 'Crustacea'):\n",
    "        inv_2.loc[i,'class'] = np.nan\n",
    "        inv_2.loc[i,'phylum'] = 'Arthropoda'\n",
    "#2H\n",
    "for i, row in inv_2.iterrows():\n",
    "    if  (inv_2.loc[i,'class'] == 'Echinodermata') or (inv_2.loc[i,'phylum'] == 'Echinodermata '):\n",
    "        inv_2.loc[i,'class'] = np.nan\n",
    "        inv_2.loc[i,'phylum'] = 'Echinodermata'\n",
    "\n",
    "##########################################################################################################################\n",
    "\n",
    "##3. order\n",
    "for i, row in inv_2.iterrows():\n",
    "    if  (inv_2.loc[i,'ordr'] == ' '):\n",
    "            inv_2.loc[i,'ordr'] = np.nan            \n",
    "#3A\n",
    "for i, row in inv_2.iterrows():\n",
    "    if (inv_2.loc[i,'ordr'] == 'Pectinidae'):\n",
    "        inv_2.loc[i,'ordr'] = np.nan\n",
    "        inv_2.loc[i,'family'] = 'Pectinidae'\n",
    "#3B\n",
    "for i, row in inv_2.iterrows():\n",
    "    if (inv_2.loc[i,'ordr'] == 'Lucinidae'):\n",
    "        inv_2.loc[i,'ordr'] = np.nan\n",
    "        inv_2.loc[i,'family'] = 'Lucinidae'        \n",
    "#3C\n",
    "for i, row in inv_2.iterrows():\n",
    "    if  (inv_2.loc[i,'ordr'] == 'Cirripedia'):\n",
    "        inv_2.loc[i,'ordr'] = np.nan\n",
    "        inv_2.loc[i,'class'] = 'Cirripedia'        \n",
    "\n",
    "##########################################################################################################################\n",
    "\n",
    "##4. family \n",
    "for i, row in inv_2.iterrows():\n",
    "    if  (inv_2.loc[i,'family'] == ' '):\n",
    "            inv_2.loc[i,'family'] = np.nan            \n",
    "#4A\n",
    "for i, row in inv_2.iterrows():\n",
    "    if  (inv_2.loc[i,'family'] == 'Pectinidae ') or (inv_2.loc[i,'family'] == 'pectinidae') or (inv_2.loc[i,'family'] == 'Pectinidae?'):\n",
    "        inv_2.loc[i,'family'] = 'Pectinidae'\n",
    "#4B\n",
    "for i, row in inv_2.iterrows():\n",
    "    if  (inv_2.loc[i,'family'] == 'arcidae?'):\n",
    "        inv_2.loc[i,'family'] = 'Arcidae'\n",
    "#4C\n",
    "for i, row in inv_2.iterrows():\n",
    "    if  (inv_2.loc[i,'family'] == 'Lucinidea') or (inv_2.loc[i,'family'] == 'Lucinidae '):\n",
    "        inv_2.loc[i,'family'] = 'Lucinidae'\n",
    "#4D\n",
    "for i, row in inv_2.iterrows():\n",
    "    if  (inv_2.loc[i,'family'] == 'Cardiidae?'):\n",
    "        inv_2.loc[i,'family'] = 'Cardiidae'\n",
    "        \n",
    "##########################################################################################################################\n",
    "\n",
    "##5. genus\n",
    "for i, row in inv_2.iterrows():\n",
    "    if  (inv_2.loc[i,'genus'] == ' '):\n",
    "            inv_2.loc[i,'genus'] = np.nan            \n",
    "#5A\n",
    "for i, row in inv_2.iterrows():\n",
    "    if  (inv_2.loc[i,'genus'] == 'patinopecten'):\n",
    "        inv_2.loc[i,'genus'] = 'Patinopecten'   \n",
    "#5B\n",
    "for i, row in inv_2.iterrows():\n",
    "    if  (inv_2.loc[i,'genus'] == 'Mytilidae'):\n",
    "        inv_2.loc[i,'genus'] = np.nan\n",
    "        inv_2.loc[i,'family'] = 'Mytilidae'   \n",
    "#5C\n",
    "for i, row in inv_2.iterrows():\n",
    "    if (inv_2.loc[i,'genus'] == 'teredolites') or (inv_2.loc[i,'genus'] == 'terodolites'):\n",
    "        inv_2.loc[i,'genus'] = 'Teredolites'\n",
    "#5D\n",
    "for i, row in inv_2.iterrows():\n",
    "    if  (inv_2.loc[i,'genus'] == 'Diplodanta'):\n",
    "        inv_2.loc[i,'genus'] = 'Diplodonta' \n",
    "#5E\n",
    "for i, row in inv_2.iterrows():\n",
    "    if  (inv_2.loc[i,'genus'] == 'astrodapsis'):\n",
    "        inv_2.loc[i,'genus'] = 'Astrodapsis' \n",
    "        \n",
    "temp3 = []\n",
    "for col in inv_2:\n",
    "    temp3.append(inv_2[col].unique())\n",
    "\n",
    "print('The Diversity of the Calaveras Inverts Across Taxonomic Levels (v2)')   \n",
    "print()\n",
    "    \n",
    "for i in range(2,8):\n",
    "    print(inv_2.columns[i])\n",
    "    print(temp3[i])\n",
    "    print()"
   ]
  },
  {
   "cell_type": "markdown",
   "metadata": {},
   "source": [
    "Great. This looks like some diversity data we can work with. Now we have to work backwards, using lower level taxonomic information to fill out the higher level information. This will be difficult to accomplish."
   ]
  },
  {
   "cell_type": "code",
   "execution_count": null,
   "metadata": {},
   "outputs": [],
   "source": [
    "##0.2.4) FLUSHING OUT THE DATA\n",
    "\n",
    "#We have our dataset...we know which lower taxa we have and can create functions based off them to fill out the higher levels.\n",
    "#If I was smarter, I would have mapped out the taxonomic info onto an existing database to save time. \n",
    "#Alas, I have to hard code the rest. \n",
    "\n",
    "#Higher taxa info taken from ITIS, World Echinoidea Database (WED)"
   ]
  },
  {
   "cell_type": "code",
   "execution_count": null,
   "metadata": {},
   "outputs": [],
   "source": [
    "##Class (Phylum)\n",
    "inv_3_1 = inv_2.copy()\n",
    "\n",
    "#Bivalvia (Mollusca) ITIS\n",
    "#Gastropoda (Mollusca) ITIS\n",
    "#Scaphopoda (Mollusca) ITIS\n",
    "for i, row in inv_3_1.iterrows():\n",
    "    if  (inv_3_1.loc[i,'class'] == 'Bivalvia') or (inv_3_1.loc[i,'class'] == 'Gastropoda') or (inv_3_1.loc[i,'class'] == 'Scaphopoda'):\n",
    "            inv_3_1.loc[i,'phylum'] = 'Mollusca'\n",
    "\n",
    "#Cirripedia (Arthropoda) ITIS\n",
    "#Crustacea (Arthropoda) ITIS\n",
    "#Maxillopoda (Arthropoda) ITIS\n",
    "for i, row in inv_3_1.iterrows():\n",
    "    if  (inv_3_1.loc[i,'class'] == 'Cirripedia') or (inv_3_1.loc[i,'class'] == 'Crustacea') or (inv_3_1.loc[i,'class'] == 'Maxillopoda'):\n",
    "            inv_3_1.loc[i,'phylum'] = 'Arthropoda'\n",
    "\n",
    "#Echinoidea (Echinodermata) ITIS\n",
    "for i, row in inv_3_1.iterrows():\n",
    "    if (inv_3_1.loc[i,'class'] == 'Echinoidea'):\n",
    "            inv_3_1.loc[i,'phylum'] = 'Echinodermata'"
   ]
  },
  {
   "cell_type": "code",
   "execution_count": null,
   "metadata": {},
   "outputs": [],
   "source": [
    "##Order (Class, Phylum)\n",
    "inv_3_2 = inv_3_1.copy()\n",
    "\n",
    "#Ostreioida (Bivalvia, Mollusca) ITIS\n",
    "#Venerida (Bivalvia, Mollusca) ITIS\n",
    "for i, row in inv_3_2.iterrows():\n",
    "    if (inv_3_2.loc[i,'ordr'] == 'Ostreioida') or (inv_3_2.loc[i,'ordr'] == 'Venerida'):\n",
    "        inv_3_2.loc[i,'class'] = 'Bivalvia'\n",
    "        inv_3_2.loc[i,'phylum'] = 'Mollusca'\n",
    "\n",
    "#Decapoda (Malacostraca, Arthropoda) ITIS\n",
    "for i, row in inv_3_2.iterrows():\n",
    "    if (inv_3_2.loc[i,'ordr'] == 'Decapoda'):\n",
    "        inv_3_2.loc[i,'class'] = 'Malacostraca'\n",
    "        inv_3_2.loc[i,'phylum'] = 'Arthropoda'"
   ]
  },
  {
   "cell_type": "code",
   "execution_count": null,
   "metadata": {},
   "outputs": [],
   "source": [
    "##Family (Order, Class, Phylum)\n",
    "inv_3_3 = inv_3_2.copy()\n",
    "\n",
    "#Pectinidae (Ostreoida, Bivalvia, Mollusca) ITIS\n",
    "#Ostreidae (Ostreoida, Bivalvia, Mollusca) ITIS\n",
    "#Spondylidae (Ostreoida, Bivalvia, Mollusca) ITIS\n",
    "for i, row in inv_3_3.iterrows():\n",
    "    if (inv_3_3.loc[i,'family'] == 'Pectinidae') or (inv_3_3.loc[i,'family'] == 'Ostreidae') or (inv_3_3.loc[i,'family'] == 'Spondylidae'):\n",
    "        inv_3_3.loc[i,'ordr'] = 'Ostreioida'\n",
    "        inv_3_3.loc[i,'class'] = 'Bivalvia'\n",
    "        inv_3_3.loc[i,'phylum'] = 'Mollusca'\n",
    "\n",
    "#Arcidae (Arcoida, Bivalvia, Mollusca) ITIS\n",
    "for i, row in inv_3_3.iterrows():\n",
    "    if (inv_3_3.loc[i,'family'] == 'Arcidae'):\n",
    "        inv_3_3.loc[i,'ordr'] = 'Arcoida'\n",
    "        inv_3_3.loc[i,'class'] = 'Bivalvia'\n",
    "        inv_3_3.loc[i,'phylum'] = 'Mollusca'\n",
    "\n",
    "#Mactridae (Veneroida, Bivalvia, Mollusca) ITIS\n",
    "#Lucinidae (Veneroida, Bivalvia, Mollusca) ITIS\n",
    "#Tellinidae (Veneroida, Bivalvia, Mollusca) ITIS\n",
    "#Cardiidae (Veneroida, Bivalvia, Mollusca) ITIS\n",
    "for i, row in inv_3_3.iterrows():\n",
    "    if (inv_3_3.loc[i,'family'] == 'Mactridae') or (inv_3_3.loc[i,'family'] == 'Lucinidae') or (inv_3_3.loc[i,'family'] == 'Tellinidae') or (inv_3_3.loc[i,'family'] == 'Cardiidae'):\n",
    "        inv_3_3.loc[i,'ordr'] = 'Veneroida'\n",
    "        inv_3_3.loc[i,'class'] = 'Bivalvia'\n",
    "        inv_3_3.loc[i,'phylum'] = 'Mollusca'\n",
    "\n",
    "#Yoldiidae (Nuculoida, Bivalvia, Mollusca) ITIS\n",
    "for i, row in inv_3_3.iterrows():\n",
    "    if (inv_3_3.loc[i,'family'] == 'Yoldiidae'):\n",
    "        inv_3_3.loc[i,'ordr'] = 'Nuculoida'\n",
    "        inv_3_3.loc[i,'class'] = 'Bivalvia'\n",
    "        inv_3_3.loc[i,'phylum'] = 'Mollusca'\n",
    "\n",
    "#Trochidae (Archaeogastropoda, Gastropoda, Mollusca) ITIS\n",
    "for i, row in inv_3_3.iterrows():\n",
    "    if (inv_3_3.loc[i,'family'] == 'Trochidae'):\n",
    "        inv_3_3.loc[i,'ordr'] = 'Archaegastropoda'\n",
    "        inv_3_3.loc[i,'class'] = 'Gastropoda'\n",
    "        inv_3_3.loc[i,'phylum'] = 'Mollusca'\n",
    "\n",
    "#Mytilidae (Mytiloida, Bivalvia, Mollusca) ITIS\n",
    "for i, row in inv_3_3.iterrows():\n",
    "    if (inv_3_3.loc[i,'family'] == 'Mytilidae'):\n",
    "        inv_3_3.loc[i,'ordr'] = 'Mytiloida'\n",
    "        inv_3_3.loc[i,'class'] = 'Bivalvia'\n",
    "        inv_3_3.loc[i,'phylum'] = 'Mollusca'"
   ]
  },
  {
   "cell_type": "code",
   "execution_count": null,
   "metadata": {},
   "outputs": [],
   "source": [
    "##Genus (Family, Order, Class, Phylum)\n",
    "inv_3_4 = inv_3_3.copy()\n",
    "\n",
    "#Patinopecten (Pectinidae, Ostreoida, Bivalvia, Mollusca) ITIS\n",
    "for i, row in inv_3_4.iterrows():\n",
    "    if (inv_3_4.loc[i,'genus'] == 'Patinopecten'):\n",
    "        inv_3_4.loc[i,'family'] = 'Pectinidae'\n",
    "        inv_3_4.loc[i,'ordr'] = 'Ostreoida'\n",
    "        inv_3_4.loc[i,'class'] = 'Bivalvia'\n",
    "        inv_3_4.loc[i,'phylum'] = 'Mollusca'\n",
    "\n",
    "#Mytilus (Mytlidae, Mytiloida, Bivalvia, Mollusca) ITIS\n",
    "for i, row in inv_3_4.iterrows():\n",
    "    if (inv_3_4.loc[i,'genus'] == 'Mytilus'):\n",
    "        inv_3_4.loc[i,'family'] = 'Mytilidae'\n",
    "        inv_3_4.loc[i,'ordr'] = 'Mytiloida'\n",
    "        inv_3_4.loc[i,'class'] = 'Bivalvia'\n",
    "        inv_3_4.loc[i,'phylum'] = 'Mollusca'\n",
    "\n",
    "#Teredolites (ASK ASHLEY, WHAT DO WE DO ABOUT ICHNOFOSSILS???)\n",
    "\n",
    "#Spisula (Mactridae, Veneroida, Bivalvia, Mollusca) ITIS\n",
    "for i, row in inv_3_4.iterrows():\n",
    "    if (inv_3_4.loc[i,'genus'] == 'Spisula'):\n",
    "        inv_3_4.loc[i,'family'] = 'Mactridae'\n",
    "        inv_3_4.loc[i,'ordr'] = 'Veneroida'\n",
    "        inv_3_4.loc[i,'class'] = 'Bivalvia'\n",
    "        inv_3_4.loc[i,'phylum'] = 'Mollusca'\n",
    "\n",
    "#Diplodonta (Ungulinidae, Veneroida, Bivalvia, Mollusca) ITIS\n",
    "for i, row in inv_3_4.iterrows():\n",
    "    if (inv_3_4.loc[i,'genus'] == 'Diplodonta'):\n",
    "        inv_3_4.loc[i,'family'] = 'Ungulinidae'\n",
    "        inv_3_4.loc[i,'ordr'] = 'Veneroida'\n",
    "        inv_3_4.loc[i,'class'] = 'Bivalvia'\n",
    "        inv_3_4.loc[i,'phylum'] = 'Mollusca'\n",
    "\n",
    "#Astrodapsis (Echinarachniidae, Clypeasteroida, Echinoidea, Echinodermata) WED\n",
    "for i, row in inv_3_4.iterrows():\n",
    "    if (inv_3_4.loc[i,'genus'] == 'Astrodapsis'):\n",
    "        inv_3_4.loc[i,'family'] = 'Echinarachniidae'\n",
    "        inv_3_4.loc[i,'ordr'] = 'Clypeasteroida'\n",
    "        inv_3_4.loc[i,'class'] = 'Echinoidea'\n",
    "        inv_3_4.loc[i,'phylum'] = 'Echinodermata'"
   ]
  },
  {
   "cell_type": "code",
   "execution_count": null,
   "metadata": {},
   "outputs": [],
   "source": [
    "inv_3_4"
   ]
  },
  {
   "cell_type": "markdown",
   "metadata": {},
   "source": [
    "That was painful, but useful in consolidating the data into a uniform structure, ready for analysis. The final task for my data cleaning involved making all the field numbers uniform, and converting them from strings to classes using datetime, so that I can begin looking at things quantitatively. \n",
    "\n",
    "First, I made a function called format_test that looked for whether each fossil had a JPW number and could be converted into a datetime. This is shown in the cell below. If that condition failed, the data was either fixed for formatting or excluded. \n",
    "\n",
    "I put inv_3_4 into an Excel spreadsheet so I could make formatting errors and correct any anomalies, just do a general \"cleaning\" of the data. "
   ]
  },
  {
   "cell_type": "code",
   "execution_count": null,
   "metadata": {},
   "outputs": [],
   "source": [
    "def format_test(df,index,column):\n",
    "    if (str(df.iloc[index][column])[0:3] == 'JPW') or (str(df.iloc[index][column])[0:3] == 'CDP'):\n",
    "        try:\n",
    "            dt.strptime(str(df.iloc[index][column])[4:14], '%m-%d-%Y')\n",
    "            return True\n",
    "        except ValueError:\n",
    "            return False\n",
    "        #print(str(i) + \" \" + str(extracted.iloc[i][1])[0:3] + \"          .\") This was just to test the function.\n",
    "    else:\n",
    "        return False"
   ]
  },
  {
   "cell_type": "code",
   "execution_count": null,
   "metadata": {},
   "outputs": [],
   "source": [
    "temp4 = []\n",
    "for i in range(len(inv_3_4)):\n",
    "    if format_test(inv_3_4,i,16) == True:\n",
    "        temp4.append(True)\n",
    "    else:\n",
    "        temp4.append(False)\n",
    "        \n",
    "inv_3_4.insert(17, 'filtered', temp4)"
   ]
  },
  {
   "cell_type": "code",
   "execution_count": null,
   "metadata": {
    "scrolled": true
   },
   "outputs": [],
   "source": [
    "#We can use the generated list below to find which dates can be corrected, and \n",
    "#which data needs to be removed from analysis due to incomplete records. \n",
    "\n",
    "#for i in range(len(inv_3_4)):\n",
    "    #print(inv_3_4.iloc[i][0])\n",
    "    #print(inv_3_4.iloc[i][16:18])\n",
    "    #print()"
   ]
  },
  {
   "cell_type": "code",
   "execution_count": null,
   "metadata": {},
   "outputs": [],
   "source": [
    "#downloading the current rendition of the data to an excel file\n",
    "#I will manually fix minor formatting issues and return the file as 'cleaned.xlsx'\n",
    "\n",
    "with pd.ExcelWriter('calaveras_inverts_for_cleaning.xlsx') as writer:\n",
    "    inv_3_4.to_excel(writer)"
   ]
  },
  {
   "cell_type": "code",
   "execution_count": null,
   "metadata": {
    "scrolled": true
   },
   "outputs": [],
   "source": [
    "cleaned = pd.read_excel('calaveras_inverts_cleaned.xlsx')\n",
    "cleaned = cleaned.drop(columns=['Unnamed: 0'])\n",
    "\n",
    "#printing for testing\n",
    "#for i in range(len(cleaned)):\n",
    "    #print(cleaned.iloc[i][1])\n",
    "    #print(cleaned.iloc[i][16:18])\n",
    "    #print()"
   ]
  },
  {
   "cell_type": "code",
   "execution_count": null,
   "metadata": {},
   "outputs": [],
   "source": [
    "temp5 = []\n",
    "for i in range(len(cleaned)):\n",
    "    if format_test(cleaned,i,16) == True:\n",
    "        temp5.append(True)\n",
    "    else:\n",
    "        temp5.append(False)\n",
    "\n",
    "cleaned.insert(18, 'filtered2', temp5)"
   ]
  },
  {
   "cell_type": "code",
   "execution_count": null,
   "metadata": {},
   "outputs": [],
   "source": [
    "inv_4 = pd.DataFrame(columns=cleaned.columns)\n",
    "\n",
    "for i in range(len(cleaned)):\n",
    "    if cleaned.iloc[i][18] == True:\n",
    "        inv_4 = inv_4.append(cleaned.iloc[i], ignore_index = False)"
   ]
  },
  {
   "cell_type": "code",
   "execution_count": null,
   "metadata": {},
   "outputs": [],
   "source": [
    "dates = []\n",
    "\n",
    "for index in range(len(inv_4)):\n",
    "    dates.append(dt.strptime(str(inv_4.iloc[index][16])[4:14], '%m-%d-%Y'))\n",
    "\n",
    "inv_4.insert(17, 'date', dates)"
   ]
  },
  {
   "cell_type": "code",
   "execution_count": null,
   "metadata": {},
   "outputs": [],
   "source": [
    "#we extract the relevant data\n",
    "\n",
    "extracted = inv_4[['spec_no', 'field_num', 'date', 'phylum', 'class', 'ordr', 'family', 'genus']].copy()\n",
    "extracted"
   ]
  },
  {
   "cell_type": "code",
   "execution_count": null,
   "metadata": {
    "scrolled": true
   },
   "outputs": [],
   "source": [
    "extracted.loc[0,'date'].day_name()"
   ]
  },
  {
   "cell_type": "code",
   "execution_count": null,
   "metadata": {},
   "outputs": [],
   "source": [
    "extracted['date'].min()\n",
    "\n",
    "#this is a problem"
   ]
  },
  {
   "cell_type": "code",
   "execution_count": null,
   "metadata": {},
   "outputs": [],
   "source": [
    "time_series = extracted.sort_values(by=\"date\")\n",
    "time_series"
   ]
  },
  {
   "cell_type": "code",
   "execution_count": null,
   "metadata": {},
   "outputs": [],
   "source": [
    "#making a counter for the total number of classes\n",
    "\n",
    "counter = []\n",
    "temp6 = []\n",
    "\n",
    "tax_ts = pd.DataFrame(columns=('phyla', 'classes', 'orders', 'families'))\n",
    "#tax_ts"
   ]
  },
  {
   "cell_type": "code",
   "execution_count": null,
   "metadata": {
    "scrolled": true
   },
   "outputs": [],
   "source": [
    "its = pd.DataFrame(columns = time_series) #interim time series\n",
    "\n",
    "for i in range(len(time_series)):\n",
    "    \n",
    "    its = its.append(time_series.iloc[i])\n",
    "    \n",
    "    #phyla = its['phylum'].unique()\n",
    "    classes = its['class'].unique()\n",
    "    nclasses = len(classes)\n",
    "    #orders = its['ordr'].unique()\n",
    "    #families = its['family'].unique()\n",
    "    #taxon = [phyla, classes, orders, families]\n",
    "    \n",
    "    #tax_ts= tax_ts.append(taxon) i dont think this works\n",
    "    print(classes)\n",
    "    print(nclasses)\n",
    "    print()"
   ]
  },
  {
   "cell_type": "code",
   "execution_count": null,
   "metadata": {},
   "outputs": [],
   "source": [
    "#inv_4 = inv_4.append(cleaned.iloc[i], ignore_index = False)"
   ]
  },
  {
   "cell_type": "code",
   "execution_count": null,
   "metadata": {},
   "outputs": [],
   "source": []
  },
  {
   "cell_type": "code",
   "execution_count": null,
   "metadata": {},
   "outputs": [],
   "source": []
  },
  {
   "cell_type": "markdown",
   "metadata": {},
   "source": [
    "# 1) Collection Curve of Invertebrate Fossils"
   ]
  },
  {
   "cell_type": "markdown",
   "metadata": {},
   "source": [
    "Let us correlate the number of taxa collected with their date of discovery. This needs to be done in a couple steps. We can use the field number as the discovery date (x-axis), and the taxonomies from the spreadsheet (y-axis). "
   ]
  },
  {
   "cell_type": "code",
   "execution_count": null,
   "metadata": {},
   "outputs": [],
   "source": []
  },
  {
   "cell_type": "code",
   "execution_count": null,
   "metadata": {},
   "outputs": [],
   "source": []
  },
  {
   "cell_type": "code",
   "execution_count": null,
   "metadata": {},
   "outputs": [],
   "source": []
  },
  {
   "cell_type": "code",
   "execution_count": null,
   "metadata": {
    "scrolled": true
   },
   "outputs": [],
   "source": []
  },
  {
   "cell_type": "code",
   "execution_count": null,
   "metadata": {},
   "outputs": [],
   "source": []
  },
  {
   "cell_type": "code",
   "execution_count": null,
   "metadata": {},
   "outputs": [],
   "source": []
  },
  {
   "cell_type": "code",
   "execution_count": null,
   "metadata": {},
   "outputs": [],
   "source": [
    "#we want to find out how the number of taxa changes over time, using the field numbers as a metric for time. \n",
    "#let us start at the class level"
   ]
  },
  {
   "cell_type": "code",
   "execution_count": null,
   "metadata": {},
   "outputs": [],
   "source": []
  },
  {
   "cell_type": "code",
   "execution_count": null,
   "metadata": {},
   "outputs": [],
   "source": []
  },
  {
   "cell_type": "markdown",
   "metadata": {},
   "source": [
    "# Collection Curve of Vertebrate Fossils - Shark Teeth"
   ]
  },
  {
   "cell_type": "code",
   "execution_count": null,
   "metadata": {},
   "outputs": [],
   "source": []
  }
 ],
 "metadata": {
  "kernelspec": {
   "display_name": "Python 3",
   "language": "python",
   "name": "python3"
  },
  "language_info": {
   "codemirror_mode": {
    "name": "ipython",
    "version": 3
   },
   "file_extension": ".py",
   "mimetype": "text/x-python",
   "name": "python",
   "nbconvert_exporter": "python",
   "pygments_lexer": "ipython3",
   "version": "3.7.6"
  }
 },
 "nbformat": 4,
 "nbformat_minor": 2
}
